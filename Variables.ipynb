{
 "cells": [
  {
   "cell_type": "code",
   "execution_count": 1,
   "metadata": {},
   "outputs": [],
   "source": [
    "import geopandas as gpd \n",
    "import geemap\n",
    "import rasterio\n",
    "import ee "
   ]
  },
  {
   "cell_type": "code",
   "execution_count": 3,
   "metadata": {},
   "outputs": [
    {
     "data": {
      "text/html": [
       "\n",
       "            <style>\n",
       "                .geemap-dark {\n",
       "                    --jp-widgets-color: white;\n",
       "                    --jp-widgets-label-color: white;\n",
       "                    --jp-ui-font-color1: white;\n",
       "                    --jp-layout-color2: #454545;\n",
       "                    background-color: #383838;\n",
       "                }\n",
       "                    \n",
       "                .geemap-dark .jupyter-button {\n",
       "                    --jp-layout-color3: #383838;\n",
       "                }\n",
       "                \n",
       "                .geemap-colab {\n",
       "                    background-color: var(--colab-primary-surface-color, white);\n",
       "                }\n",
       "                    \n",
       "                .geemap-colab .jupyter-button {\n",
       "                    --jp-layout-color3: var(--colab-primary-surface-color, white);\n",
       "                }\n",
       "            </style>\n",
       "            "
      ],
      "text/plain": [
       "<IPython.core.display.HTML object>"
      ]
     },
     "metadata": {},
     "output_type": "display_data"
    }
   ],
   "source": [
    "ee.Authenticate()\n",
    "ee.Initialize()"
   ]
  },
  {
   "cell_type": "markdown",
   "metadata": {},
   "source": [
    "# Manejo de archivos vectoriales"
   ]
  },
  {
   "cell_type": "code",
   "execution_count": 14,
   "metadata": {},
   "outputs": [
    {
     "data": {
      "text/html": [
       "\n",
       "            <style>\n",
       "                .geemap-dark {\n",
       "                    --jp-widgets-color: white;\n",
       "                    --jp-widgets-label-color: white;\n",
       "                    --jp-ui-font-color1: white;\n",
       "                    --jp-layout-color2: #454545;\n",
       "                    background-color: #383838;\n",
       "                }\n",
       "                    \n",
       "                .geemap-dark .jupyter-button {\n",
       "                    --jp-layout-color3: #383838;\n",
       "                }\n",
       "                \n",
       "                .geemap-colab {\n",
       "                    background-color: var(--colab-primary-surface-color, white);\n",
       "                }\n",
       "                    \n",
       "                .geemap-colab .jupyter-button {\n",
       "                    --jp-layout-color3: var(--colab-primary-surface-color, white);\n",
       "                }\n",
       "            </style>\n",
       "            "
      ],
      "text/plain": [
       "<IPython.core.display.HTML object>"
      ]
     },
     "metadata": {},
     "output_type": "display_data"
    }
   ],
   "source": [
    "edom= gpd.read_file(r'C:\\Users\\egonz\\Documents\\Curso\\Variables\\Edomex\\Edomex.shp')"
   ]
  },
  {
   "cell_type": "code",
   "execution_count": 16,
   "metadata": {},
   "outputs": [
    {
     "data": {
      "text/html": [
       "\n",
       "            <style>\n",
       "                .geemap-dark {\n",
       "                    --jp-widgets-color: white;\n",
       "                    --jp-widgets-label-color: white;\n",
       "                    --jp-ui-font-color1: white;\n",
       "                    --jp-layout-color2: #454545;\n",
       "                    background-color: #383838;\n",
       "                }\n",
       "                    \n",
       "                .geemap-dark .jupyter-button {\n",
       "                    --jp-layout-color3: #383838;\n",
       "                }\n",
       "                \n",
       "                .geemap-colab {\n",
       "                    background-color: var(--colab-primary-surface-color, white);\n",
       "                }\n",
       "                    \n",
       "                .geemap-colab .jupyter-button {\n",
       "                    --jp-layout-color3: var(--colab-primary-surface-color, white);\n",
       "                }\n",
       "            </style>\n",
       "            "
      ],
      "text/plain": [
       "<IPython.core.display.HTML object>"
      ]
     },
     "metadata": {},
     "output_type": "display_data"
    }
   ],
   "source": [
    "# Simplificar las geometrías con una tolerancia deseada. Ajusta este valor según sea necesario.\n",
    "# La tolerancia estará en las mismas unidades que el sistema de coordenadas del shapefile.\n",
    "gdf_simplified = edom.simplify(tolerance=1.0)\n",
    "\n",
    "# Guardar el shapefile simplificado\n",
    "gdf_simplified.to_file(r'C:\\Users\\egonz\\Documents\\Curso\\Variables\\Edomex\\prueba.shp')"
   ]
  },
  {
   "cell_type": "code",
   "execution_count": 17,
   "metadata": {},
   "outputs": [
    {
     "data": {
      "text/html": [
       "\n",
       "            <style>\n",
       "                .geemap-dark {\n",
       "                    --jp-widgets-color: white;\n",
       "                    --jp-widgets-label-color: white;\n",
       "                    --jp-ui-font-color1: white;\n",
       "                    --jp-layout-color2: #454545;\n",
       "                    background-color: #383838;\n",
       "                }\n",
       "                    \n",
       "                .geemap-dark .jupyter-button {\n",
       "                    --jp-layout-color3: #383838;\n",
       "                }\n",
       "                \n",
       "                .geemap-colab {\n",
       "                    background-color: var(--colab-primary-surface-color, white);\n",
       "                }\n",
       "                    \n",
       "                .geemap-colab .jupyter-button {\n",
       "                    --jp-layout-color3: var(--colab-primary-surface-color, white);\n",
       "                }\n",
       "            </style>\n",
       "            "
      ],
      "text/plain": [
       "<IPython.core.display.HTML object>"
      ]
     },
     "metadata": {},
     "output_type": "display_data"
    },
    {
     "data": {
      "application/vnd.jupyter.widget-view+json": {
       "model_id": "96816ccb9a024e528204584800766959",
       "version_major": 2,
       "version_minor": 0
      },
      "text/plain": [
       "Map(center=[0, 0], controls=(WidgetControl(options=['position', 'transparent_bg'], widget=SearchDataGUI(childr…"
      ]
     },
     "metadata": {},
     "output_type": "display_data"
    }
   ],
   "source": [
    "import os\n",
    "\n",
    "# Crea un mapa interactivo\n",
    "Map = geemap.Map()\n",
    "\n",
    "# Ruta al archivo shapefile\n",
    "shp_file_path = r'C:\\Users\\egonz\\Documents\\Curso\\Variables\\Edomex\\prueba.shp'\n",
    "\n",
    "# Comprueba si el archivo shapefile existe\n",
    "if not os.path.exists(shp_file_path):\n",
    "    raise FileNotFoundError(\"El archivo shapefile no se encontró.\")\n",
    "\n",
    "# Convierte el shapefile a un Earth Engine FeatureCollection\n",
    "ee_object = geemap.shp_to_ee(shp_file_path)\n",
    "\n",
    "# Añade la capa al mapa\n",
    "Map.addLayer(ee_object, {}, 'Nombre de la capa')\n",
    "\n",
    "# Muestra el mapa\n",
    "Map"
   ]
  },
  {
   "cell_type": "markdown",
   "metadata": {},
   "source": [
    "# Manejo de archivos raster"
   ]
  },
  {
   "cell_type": "code",
   "execution_count": null,
   "metadata": {},
   "outputs": [],
   "source": []
  },
  {
   "cell_type": "markdown",
   "metadata": {},
   "source": [
    "# Temperatura"
   ]
  },
  {
   "cell_type": "code",
   "execution_count": 5,
   "metadata": {},
   "outputs": [
    {
     "data": {
      "text/html": [
       "\n",
       "            <style>\n",
       "                .geemap-dark {\n",
       "                    --jp-widgets-color: white;\n",
       "                    --jp-widgets-label-color: white;\n",
       "                    --jp-ui-font-color1: white;\n",
       "                    --jp-layout-color2: #454545;\n",
       "                    background-color: #383838;\n",
       "                }\n",
       "                    \n",
       "                .geemap-dark .jupyter-button {\n",
       "                    --jp-layout-color3: #383838;\n",
       "                }\n",
       "                \n",
       "                .geemap-colab {\n",
       "                    background-color: var(--colab-primary-surface-color, white);\n",
       "                }\n",
       "                    \n",
       "                .geemap-colab .jupyter-button {\n",
       "                    --jp-layout-color3: var(--colab-primary-surface-color, white);\n",
       "                }\n",
       "            </style>\n",
       "            "
      ],
      "text/plain": [
       "<IPython.core.display.HTML object>"
      ]
     },
     "metadata": {},
     "output_type": "display_data"
    }
   ],
   "source": [
    "# Recortar la imagen para evitar trabajar con bits innecesarios\n",
    "\n",
    "mask= r\"F:\\Servicio INIFAP\\MaizEdo_Actual\\Insumos\\Edomex.shp\"\n",
    "temp= r\"C:\\Users\\egonz\\Documents\\Curso\\Variables\\Temp.tif\"\n",
    "out= r\"C:\\Users\\egonz\\Documents\\Curso\\Variables\\TempClip.tif\"\n",
    "\n",
    "#tempClip= geemap.clip_image(temp,mask,out)"
   ]
  },
  {
   "cell_type": "code",
   "execution_count": 16,
   "metadata": {},
   "outputs": [
    {
     "data": {
      "text/html": [
       "\n",
       "            <style>\n",
       "                .geemap-dark {\n",
       "                    --jp-widgets-color: white;\n",
       "                    --jp-widgets-label-color: white;\n",
       "                    --jp-ui-font-color1: white;\n",
       "                    --jp-layout-color2: #454545;\n",
       "                    background-color: #383838;\n",
       "                }\n",
       "                    \n",
       "                .geemap-dark .jupyter-button {\n",
       "                    --jp-layout-color3: #383838;\n",
       "                }\n",
       "                \n",
       "                .geemap-colab {\n",
       "                    background-color: var(--colab-primary-surface-color, white);\n",
       "                }\n",
       "                    \n",
       "                .geemap-colab .jupyter-button {\n",
       "                    --jp-layout-color3: var(--colab-primary-surface-color, white);\n",
       "                }\n",
       "            </style>\n",
       "            "
      ],
      "text/plain": [
       "<IPython.core.display.HTML object>"
      ]
     },
     "metadata": {},
     "output_type": "display_data"
    }
   ],
   "source": [
    "import numpy as np"
   ]
  },
  {
   "cell_type": "code",
   "execution_count": 27,
   "metadata": {},
   "outputs": [
    {
     "data": {
      "text/html": [
       "\n",
       "            <style>\n",
       "                .geemap-dark {\n",
       "                    --jp-widgets-color: white;\n",
       "                    --jp-widgets-label-color: white;\n",
       "                    --jp-ui-font-color1: white;\n",
       "                    --jp-layout-color2: #454545;\n",
       "                    background-color: #383838;\n",
       "                }\n",
       "                    \n",
       "                .geemap-dark .jupyter-button {\n",
       "                    --jp-layout-color3: #383838;\n",
       "                }\n",
       "                \n",
       "                .geemap-colab {\n",
       "                    background-color: var(--colab-primary-surface-color, white);\n",
       "                }\n",
       "                    \n",
       "                .geemap-colab .jupyter-button {\n",
       "                    --jp-layout-color3: var(--colab-primary-surface-color, white);\n",
       "                }\n",
       "            </style>\n",
       "            "
      ],
      "text/plain": [
       "<IPython.core.display.HTML object>"
      ]
     },
     "metadata": {},
     "output_type": "display_data"
    }
   ],
   "source": [
    "# Carga la imagen raster desde tu disco duro\n",
    "image = ee.Image(r'C:\\Users\\egonz\\Documents\\Curso\\Variables\\TempClip.tif')\n",
    "\n",
    "# Define la tabla de reclasificación\n",
    "reclassification = [\n",
    "    [10,12,20],\n",
    "    [12,15,70],\n",
    "    [15, 22, 100],\n",
    "    [22, 28, 85],\n",
    "    [28, 32, 70],\n",
    "    [32, 40, 20],\n",
    "    [-np.inf, 10, 10],\n",
    "    [40, np.inf,10]\n",
    "]"
   ]
  },
  {
   "cell_type": "code",
   "execution_count": 24,
   "metadata": {},
   "outputs": [
    {
     "data": {
      "text/html": [
       "\n",
       "            <style>\n",
       "                .geemap-dark {\n",
       "                    --jp-widgets-color: white;\n",
       "                    --jp-widgets-label-color: white;\n",
       "                    --jp-ui-font-color1: white;\n",
       "                    --jp-layout-color2: #454545;\n",
       "                    background-color: #383838;\n",
       "                }\n",
       "                    \n",
       "                .geemap-dark .jupyter-button {\n",
       "                    --jp-layout-color3: #383838;\n",
       "                }\n",
       "                \n",
       "                .geemap-colab {\n",
       "                    background-color: var(--colab-primary-surface-color, white);\n",
       "                }\n",
       "                    \n",
       "                .geemap-colab .jupyter-button {\n",
       "                    --jp-layout-color3: var(--colab-primary-surface-color, white);\n",
       "                }\n",
       "            </style>\n",
       "            "
      ],
      "text/plain": [
       "<IPython.core.display.HTML object>"
      ]
     },
     "metadata": {},
     "output_type": "display_data"
    }
   ],
   "source": [
    "def reclassify(image, reclassification):\n",
    "    \"\"\"\n",
    "    Reclassifies the input image based on the given reclassification rules.\n",
    "\n",
    "    Args:\n",
    "        image (ee.Image): The input image to reclassify.\n",
    "        reclassification (dict): A dictionary of reclassification rules.\n",
    "\n",
    "    Returns:\n",
    "        ee.Image: The reclassified image.\n",
    "    \"\"\"\n",
    "    def assign_values(value):\n",
    "        \"\"\"\n",
    "        Assigns new values to the input image based on the given reclassification rules.\n",
    "\n",
    "        Args:\n",
    "            value (ee.Number): The input pixel value.\n",
    "\n",
    "        Returns:\n",
    "            ee.Number: The new pixel value.\n",
    "        \"\"\"\n",
    "        for old_value, new_value in reclassification.items():\n",
    "            if value.eq(old_value):\n",
    "                return ee.Number(new_value)\n",
    "        return None\n",
    "\n",
    "    # Applies the custom function to each pixel in the image\n",
    "    reclassified = image.expression(\n",
    "        'b(where(isnull(values), 0, assign_values(values)))',\n",
    "        {'values': image,\n",
    "         'assign_values': ee.Function.apply(\n",
    "             ee.Algorithms.If,\n",
    "             [ee.Number(assign_values(ee.Number('value'))).eq(None),\n",
    "              0,\n",
    "              ee.Number(assign_values(ee.Number('value')))]\n",
    "         )}\n",
    "    ).float()\n",
    "\n",
    "    return reclassified"
   ]
  },
  {
   "cell_type": "code",
   "execution_count": null,
   "metadata": {},
   "outputs": [],
   "source": [
    "def reclassify(image, reclassification):\n",
    "    \"\"\"\n",
    "    Reclassifies the input image based on the given reclassification rules.\n",
    "\n",
    "    Args:\n",
    "        image (ee.Image): The input image to reclassify.\n",
    "        reclassification (dict): A dictionary of reclassification rules.\n",
    "\n",
    "    Returns:\n",
    "        ee.Image: The reclassified image.\n",
    "    \"\"\"\n",
    "    def assign_values(value):\n",
    "        \"\"\"\n",
    "        Assigns new values to the input image based on the given reclassification rules.\n",
    "\n",
    "        Args:\n",
    "            value (ee.Number): The input pixel value.\n",
    "\n",
    "        Returns:\n",
    "            ee.Number: The new pixel value.\n",
    "        \"\"\"\n",
    "        for old_value, new_value in reclassification.items():\n",
    "            if value.eq(old_value):\n",
    "                return ee.Number(new_value)\n",
    "        return None\n",
    "\n",
    "    # Applies the custom function to each pixel in the image\n",
    "    reclassified = image.expression(\n",
    "        'b(where(isnull(values), 0, assign_values(values)))',\n",
    "        {'values': image,\n",
    "         'assign_values': ee.Function.apply(\n",
    "             ee.Algorithms.If,\n",
    "             [ee.Number(assign_values(ee.Number('value'))).eq(None),\n",
    "              0,\n",
    "              ee.Number(assign_values(ee.Number('value')))]\n",
    "         )}\n",
    "    ).float()\n",
    "\n",
    "    return reclassified"
   ]
  },
  {
   "cell_type": "code",
   "execution_count": null,
   "metadata": {},
   "outputs": [],
   "source": [
    "import rasterio\n",
    "import numpy as np\n",
    "\n",
    "# Abre el archivo raster original\n",
    "with rasterio.open('path_to_your_raster.tif') as src:\n",
    "    raster_data = src.read(1)  # Lee la primera banda\n",
    "    profile = src.profile\n",
    "\n",
    "# Define tus reglas de reclasificación, por ejemplo:\n",
    "# Si el valor de píxel está entre 0 y 100, se reclasifica a 1\n",
    "# Si el valor de píxel está entre 101 y 200, se reclasifica a 2\n",
    "# Si el valor de píxel es mayor que 200, se reclasifica a 3\n",
    "reclassified_data = np.where((raster_data > 0) & (raster_data <= 100), 1, raster_data)\n",
    "reclassified_data = np.where((raster_data > 100) & (raster_data <= 200), 2, reclassified_data)\n",
    "reclassified_data = np.where(raster_data > 200, 3, reclassified_data)\n",
    "\n",
    "# Guarda el raster reclasificado\n",
    "with rasterio.open('path_to_reclassified_raster.tif', 'w', **profile) as dst:\n",
    "    dst.write(reclassified_data, 1)\n"
   ]
  }
 ],
 "metadata": {
  "kernelspec": {
   "display_name": "workshop",
   "language": "python",
   "name": "python3"
  },
  "language_info": {
   "codemirror_mode": {
    "name": "ipython",
    "version": 3
   },
   "file_extension": ".py",
   "mimetype": "text/x-python",
   "name": "python",
   "nbconvert_exporter": "python",
   "pygments_lexer": "ipython3",
   "version": "3.9.16"
  }
 },
 "nbformat": 4,
 "nbformat_minor": 2
}
